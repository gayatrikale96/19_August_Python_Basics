{
 "cells": [
  {
   "cell_type": "markdown",
   "id": "6dbd2147-078f-4d67-afdb-643bc3854a8b",
   "metadata": {},
   "source": [
    "1. Declare two variables, x and y, and assign them integer values. Swap the values of these variables without using any temporary variable.\n"
   ]
  },
  {
   "cell_type": "code",
   "execution_count": 6,
   "id": "74813fa4-84c9-416a-9fd4-2358a47c541e",
   "metadata": {},
   "outputs": [
    {
     "name": "stdout",
     "output_type": "stream",
     "text": [
      "Before swapping the value of X : 5 and y : 10\n",
      "After swapping the Value of x : 10 and y : 5\n"
     ]
    }
   ],
   "source": [
    "# Declaring two variables with integer values\n",
    "x=5\n",
    "y=10\n",
    "def swap_variables(x,y):\n",
    "# printing those values\n",
    "   print(f\"Before swapping the value of X : {x} and y : {y}\")\n",
    "# swapping the values of variable\n",
    "   x,y=y,x\n",
    "# values after the swapping\n",
    "   print(f\"After swapping the Value of x : {x} and y : {y}\")\n",
    "swap_variables(x,y)"
   ]
  },
  {
   "cell_type": "markdown",
   "id": "130f8367-6af6-4545-80e4-90bcdf2a5010",
   "metadata": {},
   "source": [
    "x = 5: This line initializes a variable named x with the value 5.\n",
    "\n",
    "y = 10: This line initializes a variable named y with the value 10.\n",
    "\n",
    "def swap_variables(x, y):: This line starts the definition of a function named swap_variables that takes two parameters, x and y.\n",
    "\n",
    "then printing the declared value using print(f\"Before swapping the value of X is {x} and y is {y}\") f-string allows you to embed variables values directly into the string.\n",
    "\n",
    "x, y = y, x: at this line swapping of variables occur.\n",
    "\n",
    "print(f\"After swapping the Value of x is {x} and y is {y}\") this print the value of our variable after the swapping.\n",
    "\n",
    "swap_variables(x, y): This line calls the swap_variables function that was defined earlier. The values of x and y that were initially set to 5 and 10 are passed as arguments to the function."
   ]
  },
  {
   "cell_type": "markdown",
   "id": "1cc4dc3f-c3ed-4147-8c69-c43f973dfe83",
   "metadata": {},
   "source": [
    "2. Create a program that calculates the area of a rectangle. Take the length and width as inputs from the user and store them in variables. Calculate and display the area."
   ]
  },
  {
   "cell_type": "code",
   "execution_count": 7,
   "id": "17b5cb47-600c-4ec2-8b89-d61a879185f9",
   "metadata": {},
   "outputs": [
    {
     "name": "stdin",
     "output_type": "stream",
     "text": [
      "Enter the value for length:  18\n",
      "Enter the value for width:  22\n"
     ]
    },
    {
     "name": "stdout",
     "output_type": "stream",
     "text": [
      "Area of rectangle is : 396.0\n"
     ]
    }
   ],
   "source": [
    "# Taking the values for length and width from the user\n",
    "# Declaring the length variable to take input(value) for length  from user\n",
    "length=float(input(\"Enter the value for length: \"))\n",
    "\n",
    "#declaring the width variable to take input from user\n",
    "width=float(input(\"Enter the value for width: \"))\n",
    "\n",
    "# we know that area of rectangle is length * width\n",
    "area = length * width\n",
    "# printing area of rectangle\n",
    "print(\"Area of rectangle is :\",area)"
   ]
  },
  {
   "cell_type": "markdown",
   "id": "64d81f20-2884-40c4-a86d-0ec14bacc998",
   "metadata": {},
   "source": [
    "length=float(input(\"Enter the value for length: \"))\n",
    "\n",
    "declared the length variable for storing the value of length which take input as string from user and convert it into the float by typecasting which accept only numerical and floating value\n",
    "\n",
    "width=float(input(\"Enter the value for width: \"))\n",
    "\n",
    "declared the width variable for storing the value of width\n",
    "\n",
    "caluculating area of rectangle by using formula area = length * width print(\"Area of rectangle is :\",area) and last the print the area of rectangle"
   ]
  },
  {
   "cell_type": "markdown",
   "id": "3fb0b417-a6fd-488d-8936-ed16caedfc3b",
   "metadata": {},
   "source": [
    "3. Write a Python program that converts temperatures from Celsius to Fahrenheit. Take the temperature in Celsius as input, store it in a variable, convert it to Fahrenheit, and display the result."
   ]
  },
  {
   "cell_type": "code",
   "execution_count": 8,
   "id": "b294e0ad-458b-400d-87d4-1e63a99216ed",
   "metadata": {},
   "outputs": [
    {
     "name": "stdin",
     "output_type": "stream",
     "text": [
      "Enter temperature in Celsius:  45\n"
     ]
    },
    {
     "name": "stdout",
     "output_type": "stream",
     "text": [
      "45.0 Celsius which is equal to 113.0 Fahrenheit\n"
     ]
    }
   ],
   "source": [
    "# Taking input from user in celsius\n",
    "celsius_temp = float(input(\"Enter temperature in Celsius: \"))\n",
    "\n",
    "# Convert Celsius to Fahrenheit using the formula: (C * 9/5) + 32\n",
    "fahrenheit_temp = (celsius_temp * 9/5) + 32\n",
    "\n",
    "# Displaying result in Fahrenhit\n",
    "print(f\"{celsius_temp} Celsius which is equal to {fahrenheit_temp} Fahrenheit\")"
   ]
  },
  {
   "cell_type": "markdown",
   "id": "e767cbc4-6e55-4eaa-bf44-19ee1893c9cd",
   "metadata": {},
   "source": [
    "celsius_temp = float(input(\"Enter temperature in Celsius: \"))\n",
    "\n",
    "declaring the variable to store input value taken from user in celsius\n",
    "\n",
    "Convert Celsius to Fahrenheit using the formula: (C * 9/5) + 32\n",
    "\n",
    "to convert the value celsius to fahrenhit formula is assigned to the variable fahrenheit_temp\n",
    "\n",
    "print(f\"{celsius_temp} Celsius which is equal to {fahrenheit_temp} Fahrenheit\") where we display the result in fahrenhit\n",
    "\n",
    "f-string allows you to embed variables values directly into the string.\n",
    "\n"
   ]
  },
  {
   "cell_type": "markdown",
   "id": "b6e0b9b1-6bcc-4809-b304-c5ed35f25d92",
   "metadata": {},
   "source": [
    "## **String Based Questions**"
   ]
  },
  {
   "cell_type": "markdown",
   "id": "f4b0e11f-6b88-4227-bfe0-8007f333461e",
   "metadata": {},
   "source": [
    "1. Write a Python program that takes a string as input and prints the length of the string"
   ]
  },
  {
   "cell_type": "code",
   "execution_count": 9,
   "id": "4f5f2b92-ff3e-4481-8806-2eeddbcf2ac0",
   "metadata": {},
   "outputs": [
    {
     "name": "stdin",
     "output_type": "stream",
     "text": [
      "Enter a string:  asdfgdggh\n"
     ]
    },
    {
     "name": "stdout",
     "output_type": "stream",
     "text": [
      "The length of the input string is: 9\n"
     ]
    }
   ],
   "source": [
    "# Step 1: Get input from the user\n",
    "input_string = input(\"Enter a string: \")\n",
    "\n",
    "# Step 2: Calculate the length of string\n",
    "string_length = len(input_string)# len function is used\n",
    "\n",
    "# Step 3: Print the length of the string\n",
    "print(\"The length of the input string is:\", string_length)\n"
   ]
  },
  {
   "cell_type": "markdown",
   "id": "6657519b-63e1-4ccd-bc9d-1adf51d81aad",
   "metadata": {},
   "source": [
    "input_string = input(\"Enter a string: \") : used to take input from user as a string\n",
    "\n",
    "variable input_string. string_length = len(input_string) : This calculates the length of the input_string to calculate the length of strin len function is used\n",
    "\n",
    "The length value is stored in the variable string_length.\n",
    "\n",
    "print(\"The length of the input string is:\", string_length) : this will display the length of the given string"
   ]
  },
  {
   "cell_type": "markdown",
   "id": "4fcdbe7e-bd8f-4e29-8f3f-bf6123c1ea5f",
   "metadata": {},
   "source": [
    "2. Create a program that takes a sentence from the user and counts the number of vowels (a, e, i, o, u) in the string."
   ]
  },
  {
   "cell_type": "code",
   "execution_count": 10,
   "id": "8959e4ea-5900-4b24-88c6-90e25a1e0288",
   "metadata": {},
   "outputs": [
    {
     "name": "stdin",
     "output_type": "stream",
     "text": [
      "Enter a sentence:  crwal\n"
     ]
    },
    {
     "name": "stdout",
     "output_type": "stream",
     "text": [
      "Number of vowels: 1\n"
     ]
    }
   ],
   "source": [
    "#Declaring the variable to take input from the user\n",
    "sentence = input(\"Enter a sentence: \")\n",
    "\n",
    "#  Initialize to zero\n",
    "no_vowels = 0\n",
    "\n",
    "#  Iterate through each character in the sentence using for loop\n",
    "for vow in sentence:\n",
    "    #  Convert the input characters to lowercase to handle both uppercase and lowercase vowels\n",
    "    vow_lower =vow.lower()\n",
    "\n",
    "    # Check if it is a vowel\n",
    "    if vow_lower in \"aeiou\":\n",
    "        # If it is a vowel increment no of vowels\n",
    "        no_vowels += 1 #increment\n",
    "\n",
    "# Display the result\n",
    "print(\"Number of vowels:\", no_vowels)\n",
    "     "
   ]
  },
  {
   "cell_type": "markdown",
   "id": "6cb6be70-0440-4983-a649-6b5bd66d50aa",
   "metadata": {},
   "source": [
    "sentence = input(\"Enter a sentence: \") declared the variable named as sentence to take sentence from user\n",
    "\n",
    "no_vowels = 0\n",
    "\n",
    "firstly initialize the number of vowels to the zero\n",
    "\n",
    "char_lower = char.lower()\n",
    "\n",
    "converting the character into the lowercase\n",
    "\n",
    "if vow_lower in \"aeiou\":\n",
    "\n",
    "If the character is a vowel, increment the vowel_count variable\n",
    "\n",
    "no_vowels += 1 finally we displayed the total number of vowels in the given sentence"
   ]
  },
  {
   "cell_type": "markdown",
   "id": "2b092fb6-d1ef-4126-8254-c42fe9d3cf44",
   "metadata": {},
   "source": [
    "3. Given a string, reverse the order of characters using string slicing and print the reversed string."
   ]
  },
  {
   "cell_type": "code",
   "execution_count": 11,
   "id": "9537616c-2130-497f-b0b0-6d621f914450",
   "metadata": {},
   "outputs": [
    {
     "name": "stdin",
     "output_type": "stream",
     "text": [
      "Enter string:  Gayatri\n"
     ]
    },
    {
     "name": "stdout",
     "output_type": "stream",
     "text": [
      "String after reversed is : irtayaG\n"
     ]
    }
   ],
   "source": [
    "#take input from user as string and stored itinto variable\n",
    "input_string=input(\"Enter string: \")\n",
    "# with the help of slicing we can reverse the string\n",
    "reversed_string=input_string[::-1]\n",
    "#print the reversed string\n",
    "print(\"String after reversed is :\",reversed_string)\n",
    "     "
   ]
  },
  {
   "cell_type": "markdown",
   "id": "53f6dda8-a572-4691-b34f-63c0b72727fe",
   "metadata": {},
   "source": [
    "used input() function to take input from user\n",
    "To reverse the string using string slicing, we use the slicing [start:stop:step]. to reverse string we simply follow [: :-1]\n",
    "\n",
    "We print the reversed string using the print() function. The text \"Reversed"
   ]
  },
  {
   "cell_type": "markdown",
   "id": "218c30cb-d110-4471-908e-187f4b0554f1",
   "metadata": {},
   "source": [
    "4. Write a program that takes a string as input and checks if it is a palindrome (reads the same forwards and backwards)."
   ]
  },
  {
   "cell_type": "code",
   "execution_count": 13,
   "id": "c555e5b9-dbda-4509-b434-8e45569d3fa6",
   "metadata": {},
   "outputs": [
    {
     "name": "stdin",
     "output_type": "stream",
     "text": [
      "Enter a string: 00\n"
     ]
    },
    {
     "name": "stdout",
     "output_type": "stream",
     "text": [
      "It is palindrome\n"
     ]
    }
   ],
   "source": [
    "# taking input from user\n",
    "Input_string=input(\"Enter a string:\")\n",
    "#remove spaces from user inputed strin and convert it into lower\n",
    "corrected_string=Input_string.replace(\"\",\"\").lower()\n",
    "# reverse the corrected string using slicing\n",
    "reversed_string=corrected_string[::-1]\n",
    "#check if corrected string and reversed string is same or not\n",
    "if corrected_string==reversed_string:\n",
    "  print(\"It is palindrome\")\n",
    "else:\n",
    "  print(\"It is not palindrome\")"
   ]
  },
  {
   "cell_type": "markdown",
   "id": "ad09b7d4-bc02-4303-826e-18e1f359fb1c",
   "metadata": {},
   "source": [
    "We taking user input and store it in the variable input_string.\n",
    "\n",
    "to remove the space from given string we used Input_string.replace(\"\",\"\")\n",
    "\n",
    "and to convert the input string to lower case we used lower() function\n",
    "\n",
    "We compare the corrected_string with reversed string using if statement.\n",
    "\n",
    "and given a condition if they both are same then it is palindrome else it not a palindrome"
   ]
  },
  {
   "cell_type": "markdown",
   "id": "152e9c0e-ed06-43d7-ad6d-4ed0a30bca82",
   "metadata": {},
   "source": [
    "5. Create a program that takes a string as input and removes all the spaces from it. Print the modified string without spaces."
   ]
  },
  {
   "cell_type": "code",
   "execution_count": 14,
   "id": "cf520627-a4b9-4c2c-9d87-a6fd823ffd7b",
   "metadata": {},
   "outputs": [
    {
     "name": "stdin",
     "output_type": "stream",
     "text": [
      "Enter a string:  Hello Gayatri\n"
     ]
    },
    {
     "name": "stdout",
     "output_type": "stream",
     "text": [
      "Modified string without spaces:  HelloGayatri\n"
     ]
    }
   ],
   "source": [
    "#  Take input from the user\n",
    "input_string = input(\"Enter a string: \")\n",
    "\n",
    "# Step 2: Initialize an empty string to store the new string without spaces\n",
    "modified_string = \"\"\n",
    "\n",
    "# Iterate through  character in the input string using for loop\n",
    "for char in input_string:\n",
    "    # Step 4: Check if the character is not a space\n",
    "      if char != \" \":\n",
    "        # Step 5: If not a space, add the character to the modified string\n",
    "          modified_string += char\n",
    "print(\"Modified string without spaces: \",modified_string)\n",
    "     "
   ]
  },
  {
   "cell_type": "markdown",
   "id": "34b385f8-7ec6-44ea-bb14-9a4ea7426ba4",
   "metadata": {},
   "source": [
    "Firstly taking input from user by using input() function.\n",
    "\n",
    "To store the string without the spaces we declare the variable name as modified_string\n",
    "\n",
    "Iterate through every single character in the input string we used for loop\n",
    "for char in input_string:\n",
    "\n",
    "To check whether there is any space in input string we check a condition if char != \" \":\n",
    "\n",
    "If there is no any space then we added string to modified string by using modified_string += char\n",
    "\n",
    "Finally we displayed it with the help of print function"
   ]
  },
  {
   "cell_type": "code",
   "execution_count": null,
   "id": "e15a64b4-4ba2-4991-85a3-e52922a826db",
   "metadata": {},
   "outputs": [],
   "source": []
  }
 ],
 "metadata": {
  "kernelspec": {
   "display_name": "Python 3 (ipykernel)",
   "language": "python",
   "name": "python3"
  },
  "language_info": {
   "codemirror_mode": {
    "name": "ipython",
    "version": 3
   },
   "file_extension": ".py",
   "mimetype": "text/x-python",
   "name": "python",
   "nbconvert_exporter": "python",
   "pygments_lexer": "ipython3",
   "version": "3.10.8"
  }
 },
 "nbformat": 4,
 "nbformat_minor": 5
}
